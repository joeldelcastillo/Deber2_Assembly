{
 "cells": [
  {
   "cell_type": "markdown",
   "id": "c7627f23",
   "metadata": {},
   "source": [
    "## For a 16 bit word with 6 bits for an opcode"
   ]
  },
  {
   "cell_type": "markdown",
   "id": "b7e20625",
   "metadata": {},
   "source": [
    "\n",
    "1. How many different instructions could I fit into the instruction set?\n",
    "\n",
    "$2^6 = 64$\n",
    "\n",
    "2. What is the largest number that I could use as data?\n",
    "\n",
    "$2^{10}-1  = 1023$"
   ]
  }
 ],
 "metadata": {
  "kernelspec": {
   "display_name": "Intel",
   "language": "",
   "name": "intel"
  },
  "language_info": {
   "file_extension": "x86",
   "mimetype": "intel",
   "name": "intel"
  }
 },
 "nbformat": 4,
 "nbformat_minor": 5
}
