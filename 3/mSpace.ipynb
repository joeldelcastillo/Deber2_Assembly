{
 "cells": [
  {
   "cell_type": "markdown",
   "id": "b7e20625",
   "metadata": {},
   "source": [
    "\n",
    "For the following memory space, what would it look like after executing the assembly code below:\n",
    "\n",
    "|Address|Contents|\n",
    "|-------|--------|\n",
    "|10     | 1      |\n",
    "|11     | 4      |\n",
    "|12     | 5      |\n",
    "|13     | 112    |\n",
    "|14     | 7      |\n",
    "\n",
    "```\n",
    "LOAD 14\n",
    "ADD (12)\n",
    "STORE 12\n",
    "```\n",
    "1. Carga el valor del espacio de memoria de 14 = (7)\n",
    "2. Le añade el valor del espacio de memoria de 12 = (5)\n",
    "3. Guarda el resultado en el espacio de memoria 15 = (7 + 5)\n",
    "\n",
    "|Address|Contents|\n",
    "|-------|--------|\n",
    "|10     | 1      |\n",
    "|11     | 4      |\n",
    "|12     | 12     |\n",
    "|13     | 112    |\n",
    "|14     | 7      |\n",
    "\n",
    "```\n"
   ]
  }
 ],
 "metadata": {
  "kernelspec": {
   "display_name": "Intel",
   "language": "",
   "name": "intel"
  },
  "language_info": {
   "file_extension": "x86",
   "mimetype": "intel",
   "name": "intel"
  }
 },
 "nbformat": 4,
 "nbformat_minor": 5
}
