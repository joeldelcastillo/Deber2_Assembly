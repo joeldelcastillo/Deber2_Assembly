{
 "cells": [
  {
   "cell_type": "markdown",
   "id": "b7e20625",
   "metadata": {},
   "source": [
    "5. Write the following C function and generate the assembly code using `gcc`\n",
    "\n",
    "```\n",
    "void swap(int *d1p, int *d2p) \n",
    "{\n",
    "  int temp0 = *d1p;\n",
    "  int temp1 = *d2p;\n",
    "  *d1p = temp1;\n",
    "  *d2p = temp0;\n",
    "}\n",
    "```\n",
    "6. Create a similar function `swapl` that uses long integers instead\n",
    "\n"
   ]
  },
  {
   "cell_type": "markdown",
   "id": "7473531c",
   "metadata": {},
   "source": [
    "### What's the difference in the assembly code?\n"
   ]
  }
 ],
 "metadata": {
  "kernelspec": {
   "display_name": "Intel",
   "language": "",
   "name": "intel"
  },
  "language_info": {
   "file_extension": "x86",
   "mimetype": "intel",
   "name": "intel"
  }
 },
 "nbformat": 4,
 "nbformat_minor": 5
}
